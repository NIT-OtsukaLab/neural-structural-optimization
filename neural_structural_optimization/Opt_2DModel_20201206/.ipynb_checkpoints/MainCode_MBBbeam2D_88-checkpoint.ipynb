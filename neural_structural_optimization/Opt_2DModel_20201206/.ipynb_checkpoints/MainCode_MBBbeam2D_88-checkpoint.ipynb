{
 "cells": [
  {
   "cell_type": "code",
   "execution_count": 1,
   "metadata": {},
   "outputs": [
    {
     "ename": "NameError",
     "evalue": "name 'time' is not defined",
     "output_type": "error",
     "traceback": [
      "\u001b[0;31m---------------------------------------------------------------------------\u001b[0m",
      "\u001b[0;31mNameError\u001b[0m                                 Traceback (most recent call last)",
      "\u001b[0;32m<ipython-input-1-e67cd6bff605>\u001b[0m in \u001b[0;36m<module>\u001b[0;34m\u001b[0m\n\u001b[1;32m     37\u001b[0m \u001b[0mmax_iterations\u001b[0m \u001b[0;34m=\u001b[0m \u001b[0;36m100\u001b[0m\u001b[0;34m\u001b[0m\u001b[0;34m\u001b[0m\u001b[0m\n\u001b[1;32m     38\u001b[0m \u001b[0;34m\u001b[0m\u001b[0m\n\u001b[0;32m---> 39\u001b[0;31m \u001b[0mstart\u001b[0m \u001b[0;34m=\u001b[0m \u001b[0mtime\u001b[0m\u001b[0;34m.\u001b[0m\u001b[0mtime\u001b[0m\u001b[0;34m(\u001b[0m\u001b[0;34m)\u001b[0m\u001b[0;34m\u001b[0m\u001b[0;34m\u001b[0m\u001b[0m\n\u001b[0m\u001b[1;32m     40\u001b[0m \u001b[0mds\u001b[0m \u001b[0;34m=\u001b[0m \u001b[0mtrain_all\u001b[0m\u001b[0;34m(\u001b[0m\u001b[0mproblem\u001b[0m\u001b[0;34m,\u001b[0m \u001b[0mmax_iterations\u001b[0m\u001b[0;34m)\u001b[0m\u001b[0;34m\u001b[0m\u001b[0;34m\u001b[0m\u001b[0m\n\u001b[1;32m     41\u001b[0m \u001b[0me_time\u001b[0m \u001b[0;34m=\u001b[0m \u001b[0mtime\u001b[0m\u001b[0;34m.\u001b[0m\u001b[0mtime\u001b[0m\u001b[0;34m(\u001b[0m\u001b[0;34m)\u001b[0m \u001b[0;34m-\u001b[0m \u001b[0mstart\u001b[0m\u001b[0;34m\u001b[0m\u001b[0;34m\u001b[0m\u001b[0m\n",
      "\u001b[0;31mNameError\u001b[0m: name 'time' is not defined"
     ]
    }
   ],
   "source": [
    "from IPython import display\n",
    "from PIL import Image\n",
    "import time\n",
    "import seaborn\n",
    "import matplotlib.pyplot as plt\n",
    "import xarray\n",
    "import pandas as pd\n",
    "\n",
    "from neural_structural_optimization.Opt_2DModel_20201206 import pipeline_utils\n",
    "from neural_structural_optimization.Opt_2DModel_20201206 import problems\n",
    "from neural_structural_optimization.Opt_2DModel_20201206 import models\n",
    "from neural_structural_optimization.Opt_2DModel_20201206 import topo_api\n",
    "from neural_structural_optimization.Opt_2DModel_20201206 import train\n",
    "\n",
    "\n",
    "def train_all(problem, max_iterations, cnn_kwargs=None):\n",
    "    args = topo_api.specified_task(problem)\n",
    "    if cnn_kwargs is None:\n",
    "        cnn_kwargs = {}\n",
    "\n",
    " #   model = models.PixelModel(args=args)\n",
    " #   ds_mma = train.method_of_moving_asymptotes(model, max_iterations)\n",
    "\n",
    " #   model = models.PixelModel(args=args)\n",
    " #   ds_oc = train.optimality_criteria(model, max_iterations)\n",
    "\n",
    " #   model = models.PixelModel(args=args)\n",
    " #   ds_pix = train.train_lbfgs(model, max_iterations)\n",
    "\n",
    "    model = models.CNNModel(args=args, **cnn_kwargs)\n",
    "    ds_cnn = train.train_lbfgs(model, max_iterations)\n",
    "\n",
    "    dims = pd.Index(['cnn-lbfgs'], name='model')\n",
    "    return xarray.concat([ds_cnn], dim=dims)\n",
    "\n",
    "#\"MBB beam with a larger grid\"\n",
    "problem = problems.PROBLEMS_BY_NAME['mbb_beam_8x8_0.5']\n",
    "max_iterations = 100\n",
    "\n",
    "start = time.time()\n",
    "ds = train_all(problem, max_iterations)\n",
    "e_time = time.time() - start\n",
    "%time ds = train_all(problem, max_iterations)\n",
    "\n",
    "ds.loss.transpose().to_pandas().cummin().loc[:200].plot(linewidth=2)\n",
    "plt.ylim(230, 330)\n",
    "plt.ylabel('Compliance (loss)')\n",
    "plt.xlabel('Optimization step')\n",
    "seaborn.despine()\n",
    "\n",
    "ds.design.ffill('step').sel(step=100).plot.imshow(\n",
    "    col='model', x='x', y='y', size=2, aspect=1, col_wrap=2,\n",
    "    yincrease=False, add_colorbar=False, cmap='Greys')\n",
    "plt.suptitle(problem.name, y=1.02)\n",
    "\n",
    "ds.design.sel(step=[0, 1, 2, 5, 10, 20, 50, 100]).plot.imshow(\n",
    "    row='model', col='step', x='x', y='y', size=2, aspect=1,\n",
    "    yincrease=False, add_colorbar=False, cmap='Greys')\n",
    "\n",
    "\n"
   ]
  },
  {
   "cell_type": "code",
   "execution_count": null,
   "metadata": {},
   "outputs": [],
   "source": []
  }
 ],
 "metadata": {
  "jupytext": {
   "text_representation": {
    "extension": ".py",
    "format_name": "light",
    "format_version": "1.5",
    "jupytext_version": "1.7.1"
   }
  },
  "kernelspec": {
   "display_name": "Python 3",
   "language": "python",
   "name": "python3"
  },
  "language_info": {
   "codemirror_mode": {
    "name": "ipython",
    "version": 3
   },
   "file_extension": ".py",
   "mimetype": "text/x-python",
   "name": "python",
   "nbconvert_exporter": "python",
   "pygments_lexer": "ipython3",
   "version": "3.6.9"
  }
 },
 "nbformat": 4,
 "nbformat_minor": 4
}
