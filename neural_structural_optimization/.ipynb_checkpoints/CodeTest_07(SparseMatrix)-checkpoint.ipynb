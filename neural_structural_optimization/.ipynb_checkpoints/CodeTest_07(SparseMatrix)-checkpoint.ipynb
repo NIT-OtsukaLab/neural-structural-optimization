{
 "cells": [
  {
   "cell_type": "code",
   "execution_count": 12,
   "metadata": {
    "lines_to_next_cell": 0
   },
   "outputs": [
    {
     "name": "stdout",
     "output_type": "stream",
     "text": [
      "arr_2d= [[0 1 2]\n",
      " [3 4 5]]\n",
      "arr_3d= [[[0 1]\n",
      "  [2 3]\n",
      "  [4 5]]]\n",
      "ndim, shape, size\n",
      "2 (2, 3) 6\n",
      "3 (1, 3, 2) 6\n",
      "arr_3d_2d= [[0 1 2]\n",
      " [3 4 5]]\n"
     ]
    }
   ],
   "source": [
    "\"\"\"3D配列→2D配列→Sparse行列処理(2D)→3D配列\"\"\"\n",
    "\n",
    "import numpy as np\n",
    "\n",
    "a_2d = [[0, 1, 2], [3, 4, 5]]\n",
    "a_3d = [[[0,1],\n",
    "         [2,3],\n",
    "         [4,5]]]\n",
    "\n",
    "arr_2d = np.array(a_2d)\n",
    "arr_3d = np.array(a_3d)\n",
    "\n",
    "print(\"arr_2d=\",arr_2d)\n",
    "print(\"arr_3d=\",arr_3d)\n",
    "\n",
    "print(\"ndim, shape, size\")\n",
    "print(arr_2d.ndim, arr_2d.shape, arr_2d.size)\n",
    "print(arr_3d.ndim, arr_3d.shape, arr_3d.size)\n",
    "\n",
    "arr_3d_2d=np.reshape(arr_3d,(2,-1))\n",
    "print(\"arr_3d_2d=\",arr_3d_2d)\n",
    "\n",
    "#arr_2d_3d=np.reshape(arr_3d_2d,(3,-1))\n",
    "#print(\"arr_2d_3d=\",arr_2d_3d)\n"
   ]
  },
  {
   "cell_type": "code",
   "execution_count": 5,
   "metadata": {
    "lines_to_next_cell": 2
   },
   "outputs": [
    {
     "name": "stdout",
     "output_type": "stream",
     "text": [
      "  (0, 1)\t1\n",
      "  (0, 2)\t2\n",
      "  (1, 0)\t3\n",
      "  (1, 1)\t4\n",
      "  (1, 2)\t5\n",
      "data= [1 2 3 4 5]\n",
      "row= [0 0 1 1 1]\n",
      "col= [1 2 0 1 2]\n"
     ]
    }
   ],
   "source": [
    "import scipy.ndimage\n",
    "import scipy.sparse\n",
    "import scipy.sparse.linalg\n",
    "\n",
    "coo_2d = scipy.sparse.coo_matrix(a_2d)\n",
    "print(coo_2d)\n",
    "shape = coo_2d.shape\n",
    "\n",
    "#coo_3d = scipy.sparse.coo_matrix(a_3d)\n",
    "# → TypeError: expected dimension <= 2 array or matrix\n",
    "\n",
    "print(\"data=\",coo_2d.data)\n",
    "print(\"row=\",coo_2d.row)\n",
    "print(\"col=\",coo_2d.col)"
   ]
  },
  {
   "cell_type": "code",
   "execution_count": 11,
   "metadata": {},
   "outputs": [
    {
     "name": "stdout",
     "output_type": "stream",
     "text": [
      "  (0, 1)\t1\n",
      "  (0, 2)\t2\n",
      "  (1, 0)\t3\n",
      "  (1, 1)\t4\n",
      "  (1, 2)\t5\n"
     ]
    }
   ],
   "source": [
    "coo_3d = scipy.sparse.coo_matrix((coo_2d.data,(coo_2d.row,coo_2d.col)))\n",
    "print(coo_3d)"
   ]
  },
  {
   "cell_type": "code",
   "execution_count": null,
   "metadata": {},
   "outputs": [],
   "source": []
  }
 ],
 "metadata": {
  "jupytext": {
   "text_representation": {
    "extension": ".py",
    "format_name": "light",
    "format_version": "1.5",
    "jupytext_version": "1.7.1"
   }
  },
  "kernelspec": {
   "display_name": "Python 3",
   "language": "python",
   "name": "python3"
  },
  "language_info": {
   "codemirror_mode": {
    "name": "ipython",
    "version": 3
   },
   "file_extension": ".py",
   "mimetype": "text/x-python",
   "name": "python",
   "nbconvert_exporter": "python",
   "pygments_lexer": "ipython3",
   "version": "3.6.9"
  }
 },
 "nbformat": 4,
 "nbformat_minor": 4
}
