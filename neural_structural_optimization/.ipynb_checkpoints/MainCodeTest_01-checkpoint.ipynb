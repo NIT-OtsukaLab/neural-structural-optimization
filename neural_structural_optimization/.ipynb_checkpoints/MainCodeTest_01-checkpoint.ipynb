{
 "cells": [
  {
   "cell_type": "code",
   "execution_count": 7,
   "metadata": {
    "lines_to_next_cell": 0
   },
   "outputs": [
    {
     "name": "stdout",
     "output_type": "stream",
     "text": [
      "CNN Modeling is Done.\n"
     ]
    },
    {
     "name": "stderr",
     "output_type": "stream",
     "text": [
      "/home/otsukalab/.local/share/virtualenvs/reparam-cfaYz6qU/lib/python3.6/site-packages/autograd/tracer.py:48: RuntimeWarning: overflow encountered in cosh\n",
      "  return f_raw(*args, **kwargs)\n"
     ]
    },
    {
     "name": "stdout",
     "output_type": "stream",
     "text": [
      "Training Done.\n",
      "e_time:19.364513397216797[s]\n"
     ]
    },
    {
     "ename": "ValueError",
     "evalue": "A 3-dimensional array was passed to imshow(), but there is no dimension that could be color.  At least one dimension must be of size 3 (RGB) or 4 (RGBA), and not given as x or y.",
     "output_type": "error",
     "traceback": [
      "\u001b[0;31m---------------------------------------------------------------------------\u001b[0m",
      "\u001b[0;31mValueError\u001b[0m                                Traceback (most recent call last)",
      "\u001b[0;32m<ipython-input-7-dc2d7237c36e>\u001b[0m in \u001b[0;36m<module>\u001b[0;34m\u001b[0m\n\u001b[1;32m     46\u001b[0m ds.design.ffill('step').sel(step=max(ds.design.step)).plot.imshow(\n\u001b[1;32m     47\u001b[0m     \u001b[0mcol\u001b[0m\u001b[0;34m=\u001b[0m\u001b[0;34m'model'\u001b[0m\u001b[0;34m,\u001b[0m \u001b[0mx\u001b[0m\u001b[0;34m=\u001b[0m\u001b[0;34m'x'\u001b[0m\u001b[0;34m,\u001b[0m \u001b[0my\u001b[0m\u001b[0;34m=\u001b[0m\u001b[0;34m'y'\u001b[0m\u001b[0;34m,\u001b[0m \u001b[0msize\u001b[0m\u001b[0;34m=\u001b[0m\u001b[0;36m2\u001b[0m\u001b[0;34m,\u001b[0m \u001b[0maspect\u001b[0m\u001b[0;34m=\u001b[0m\u001b[0;36m2.5\u001b[0m\u001b[0;34m,\u001b[0m \u001b[0mcol_wrap\u001b[0m\u001b[0;34m=\u001b[0m\u001b[0;36m2\u001b[0m\u001b[0;34m,\u001b[0m\u001b[0;34m\u001b[0m\u001b[0;34m\u001b[0m\u001b[0m\n\u001b[0;32m---> 48\u001b[0;31m     yincrease=False, add_colorbar=False, cmap='Greys')\n\u001b[0m\u001b[1;32m     49\u001b[0m \u001b[0mplt\u001b[0m\u001b[0;34m.\u001b[0m\u001b[0msuptitle\u001b[0m\u001b[0;34m(\u001b[0m\u001b[0mproblem\u001b[0m\u001b[0;34m.\u001b[0m\u001b[0mname\u001b[0m\u001b[0;34m,\u001b[0m \u001b[0my\u001b[0m\u001b[0;34m=\u001b[0m\u001b[0;36m1.02\u001b[0m\u001b[0;34m)\u001b[0m\u001b[0;34m\u001b[0m\u001b[0;34m\u001b[0m\u001b[0m\n\u001b[1;32m     50\u001b[0m \u001b[0;34m\u001b[0m\u001b[0m\n",
      "\u001b[0;32m~/.local/share/virtualenvs/reparam-cfaYz6qU/lib/python3.6/site-packages/xarray/plot/plot.py\u001b[0m in \u001b[0;36mplotmethod\u001b[0;34m(_PlotMethods_obj, x, y, figsize, size, aspect, ax, row, col, col_wrap, xincrease, yincrease, add_colorbar, add_labels, vmin, vmax, cmap, colors, center, robust, extend, levels, infer_intervals, subplot_kws, cbar_ax, cbar_kwargs, xscale, yscale, xticks, yticks, xlim, ylim, norm, **kwargs)\u001b[0m\n\u001b[1;32m    842\u001b[0m         \u001b[0;32mfor\u001b[0m \u001b[0marg\u001b[0m \u001b[0;32min\u001b[0m \u001b[0;34m[\u001b[0m\u001b[0;34m\"_PlotMethods_obj\"\u001b[0m\u001b[0;34m,\u001b[0m \u001b[0;34m\"newplotfunc\"\u001b[0m\u001b[0;34m,\u001b[0m \u001b[0;34m\"kwargs\"\u001b[0m\u001b[0;34m]\u001b[0m\u001b[0;34m:\u001b[0m\u001b[0;34m\u001b[0m\u001b[0;34m\u001b[0m\u001b[0m\n\u001b[1;32m    843\u001b[0m             \u001b[0;32mdel\u001b[0m \u001b[0mallargs\u001b[0m\u001b[0;34m[\u001b[0m\u001b[0marg\u001b[0m\u001b[0;34m]\u001b[0m\u001b[0;34m\u001b[0m\u001b[0;34m\u001b[0m\u001b[0m\n\u001b[0;32m--> 844\u001b[0;31m         \u001b[0;32mreturn\u001b[0m \u001b[0mnewplotfunc\u001b[0m\u001b[0;34m(\u001b[0m\u001b[0;34m**\u001b[0m\u001b[0mallargs\u001b[0m\u001b[0;34m)\u001b[0m\u001b[0;34m\u001b[0m\u001b[0;34m\u001b[0m\u001b[0m\n\u001b[0m\u001b[1;32m    845\u001b[0m \u001b[0;34m\u001b[0m\u001b[0m\n\u001b[1;32m    846\u001b[0m     \u001b[0;31m# Add to class _PlotMethods\u001b[0m\u001b[0;34m\u001b[0m\u001b[0;34m\u001b[0m\u001b[0;34m\u001b[0m\u001b[0m\n",
      "\u001b[0;32m~/.local/share/virtualenvs/reparam-cfaYz6qU/lib/python3.6/site-packages/xarray/plot/plot.py\u001b[0m in \u001b[0;36mnewplotfunc\u001b[0;34m(darray, x, y, figsize, size, aspect, ax, row, col, col_wrap, xincrease, yincrease, add_colorbar, add_labels, vmin, vmax, cmap, center, robust, extend, levels, infer_intervals, colors, subplot_kws, cbar_ax, cbar_kwargs, xscale, yscale, xticks, yticks, xlim, ylim, norm, **kwargs)\u001b[0m\n\u001b[1;32m    655\u001b[0m             \u001b[0;31m# Need the decorated plotting function\u001b[0m\u001b[0;34m\u001b[0m\u001b[0;34m\u001b[0m\u001b[0;34m\u001b[0m\u001b[0m\n\u001b[1;32m    656\u001b[0m             \u001b[0mallargs\u001b[0m\u001b[0;34m[\u001b[0m\u001b[0;34m\"plotfunc\"\u001b[0m\u001b[0;34m]\u001b[0m \u001b[0;34m=\u001b[0m \u001b[0mglobals\u001b[0m\u001b[0;34m(\u001b[0m\u001b[0;34m)\u001b[0m\u001b[0;34m[\u001b[0m\u001b[0mplotfunc\u001b[0m\u001b[0;34m.\u001b[0m\u001b[0m__name__\u001b[0m\u001b[0;34m]\u001b[0m\u001b[0;34m\u001b[0m\u001b[0;34m\u001b[0m\u001b[0m\n\u001b[0;32m--> 657\u001b[0;31m             \u001b[0;32mreturn\u001b[0m \u001b[0m_easy_facetgrid\u001b[0m\u001b[0;34m(\u001b[0m\u001b[0mdarray\u001b[0m\u001b[0;34m,\u001b[0m \u001b[0mkind\u001b[0m\u001b[0;34m=\u001b[0m\u001b[0;34m\"dataarray\"\u001b[0m\u001b[0;34m,\u001b[0m \u001b[0;34m**\u001b[0m\u001b[0mallargs\u001b[0m\u001b[0;34m)\u001b[0m\u001b[0;34m\u001b[0m\u001b[0;34m\u001b[0m\u001b[0m\n\u001b[0m\u001b[1;32m    658\u001b[0m \u001b[0;34m\u001b[0m\u001b[0m\n\u001b[1;32m    659\u001b[0m         \u001b[0mplt\u001b[0m \u001b[0;34m=\u001b[0m \u001b[0mimport_matplotlib_pyplot\u001b[0m\u001b[0;34m(\u001b[0m\u001b[0;34m)\u001b[0m\u001b[0;34m\u001b[0m\u001b[0;34m\u001b[0m\u001b[0m\n",
      "\u001b[0;32m~/.local/share/virtualenvs/reparam-cfaYz6qU/lib/python3.6/site-packages/xarray/plot/facetgrid.py\u001b[0m in \u001b[0;36m_easy_facetgrid\u001b[0;34m(data, plotfunc, kind, x, y, row, col, col_wrap, sharex, sharey, aspect, size, subplot_kws, ax, figsize, **kwargs)\u001b[0m\n\u001b[1;32m    644\u001b[0m \u001b[0;34m\u001b[0m\u001b[0m\n\u001b[1;32m    645\u001b[0m     \u001b[0;32mif\u001b[0m \u001b[0mkind\u001b[0m \u001b[0;34m==\u001b[0m \u001b[0;34m\"dataarray\"\u001b[0m\u001b[0;34m:\u001b[0m\u001b[0;34m\u001b[0m\u001b[0;34m\u001b[0m\u001b[0m\n\u001b[0;32m--> 646\u001b[0;31m         \u001b[0;32mreturn\u001b[0m \u001b[0mg\u001b[0m\u001b[0;34m.\u001b[0m\u001b[0mmap_dataarray\u001b[0m\u001b[0;34m(\u001b[0m\u001b[0mplotfunc\u001b[0m\u001b[0;34m,\u001b[0m \u001b[0mx\u001b[0m\u001b[0;34m,\u001b[0m \u001b[0my\u001b[0m\u001b[0;34m,\u001b[0m \u001b[0;34m**\u001b[0m\u001b[0mkwargs\u001b[0m\u001b[0;34m)\u001b[0m\u001b[0;34m\u001b[0m\u001b[0;34m\u001b[0m\u001b[0m\n\u001b[0m\u001b[1;32m    647\u001b[0m \u001b[0;34m\u001b[0m\u001b[0m\n\u001b[1;32m    648\u001b[0m     \u001b[0;32mif\u001b[0m \u001b[0mkind\u001b[0m \u001b[0;34m==\u001b[0m \u001b[0;34m\"dataset\"\u001b[0m\u001b[0;34m:\u001b[0m\u001b[0;34m\u001b[0m\u001b[0;34m\u001b[0m\u001b[0m\n",
      "\u001b[0;32m~/.local/share/virtualenvs/reparam-cfaYz6qU/lib/python3.6/site-packages/xarray/plot/facetgrid.py\u001b[0m in \u001b[0;36mmap_dataarray\u001b[0;34m(self, func, x, y, **kwargs)\u001b[0m\n\u001b[1;32m    267\u001b[0m             \u001b[0my\u001b[0m\u001b[0;34m=\u001b[0m\u001b[0my\u001b[0m\u001b[0;34m,\u001b[0m\u001b[0;34m\u001b[0m\u001b[0;34m\u001b[0m\u001b[0m\n\u001b[1;32m    268\u001b[0m             \u001b[0mimshow\u001b[0m\u001b[0;34m=\u001b[0m\u001b[0mfunc\u001b[0m\u001b[0;34m.\u001b[0m\u001b[0m__name__\u001b[0m \u001b[0;34m==\u001b[0m \u001b[0;34m\"imshow\"\u001b[0m\u001b[0;34m,\u001b[0m\u001b[0;34m\u001b[0m\u001b[0;34m\u001b[0m\u001b[0m\n\u001b[0;32m--> 269\u001b[0;31m             \u001b[0mrgb\u001b[0m\u001b[0;34m=\u001b[0m\u001b[0mkwargs\u001b[0m\u001b[0;34m.\u001b[0m\u001b[0mget\u001b[0m\u001b[0;34m(\u001b[0m\u001b[0;34m\"rgb\"\u001b[0m\u001b[0;34m,\u001b[0m \u001b[0;32mNone\u001b[0m\u001b[0;34m)\u001b[0m\u001b[0;34m,\u001b[0m\u001b[0;34m\u001b[0m\u001b[0;34m\u001b[0m\u001b[0m\n\u001b[0m\u001b[1;32m    270\u001b[0m         )\n\u001b[1;32m    271\u001b[0m \u001b[0;34m\u001b[0m\u001b[0m\n",
      "\u001b[0;32m~/.local/share/virtualenvs/reparam-cfaYz6qU/lib/python3.6/site-packages/xarray/plot/utils.py\u001b[0m in \u001b[0;36m_infer_xy_labels\u001b[0;34m(darray, x, y, imshow, rgb)\u001b[0m\n\u001b[1;32m    371\u001b[0m \u001b[0;34m\u001b[0m\u001b[0m\n\u001b[1;32m    372\u001b[0m     \u001b[0;32mif\u001b[0m \u001b[0mimshow\u001b[0m \u001b[0;32mand\u001b[0m \u001b[0mdarray\u001b[0m\u001b[0;34m.\u001b[0m\u001b[0mndim\u001b[0m \u001b[0;34m==\u001b[0m \u001b[0;36m3\u001b[0m\u001b[0;34m:\u001b[0m\u001b[0;34m\u001b[0m\u001b[0;34m\u001b[0m\u001b[0m\n\u001b[0;32m--> 373\u001b[0;31m         \u001b[0;32mreturn\u001b[0m \u001b[0m_infer_xy_labels_3d\u001b[0m\u001b[0;34m(\u001b[0m\u001b[0mdarray\u001b[0m\u001b[0;34m,\u001b[0m \u001b[0mx\u001b[0m\u001b[0;34m,\u001b[0m \u001b[0my\u001b[0m\u001b[0;34m,\u001b[0m \u001b[0mrgb\u001b[0m\u001b[0;34m)\u001b[0m\u001b[0;34m\u001b[0m\u001b[0;34m\u001b[0m\u001b[0m\n\u001b[0m\u001b[1;32m    374\u001b[0m \u001b[0;34m\u001b[0m\u001b[0m\n\u001b[1;32m    375\u001b[0m     \u001b[0;32mif\u001b[0m \u001b[0mx\u001b[0m \u001b[0;32mis\u001b[0m \u001b[0;32mNone\u001b[0m \u001b[0;32mand\u001b[0m \u001b[0my\u001b[0m \u001b[0;32mis\u001b[0m \u001b[0;32mNone\u001b[0m\u001b[0;34m:\u001b[0m\u001b[0;34m\u001b[0m\u001b[0;34m\u001b[0m\u001b[0m\n",
      "\u001b[0;32m~/.local/share/virtualenvs/reparam-cfaYz6qU/lib/python3.6/site-packages/xarray/plot/utils.py\u001b[0m in \u001b[0;36m_infer_xy_labels_3d\u001b[0;34m(darray, x, y, rgb)\u001b[0m\n\u001b[1;32m    332\u001b[0m     \u001b[0;32mif\u001b[0m \u001b[0mrgb\u001b[0m \u001b[0;32mis\u001b[0m \u001b[0;32mNone\u001b[0m \u001b[0;32mand\u001b[0m \u001b[0;32mnot\u001b[0m \u001b[0mcould_be_color\u001b[0m\u001b[0;34m:\u001b[0m\u001b[0;34m\u001b[0m\u001b[0;34m\u001b[0m\u001b[0m\n\u001b[1;32m    333\u001b[0m         raise ValueError(\n\u001b[0;32m--> 334\u001b[0;31m             \u001b[0;34m\"A 3-dimensional array was passed to imshow(), but there is no \"\u001b[0m\u001b[0;34m\u001b[0m\u001b[0;34m\u001b[0m\u001b[0m\n\u001b[0m\u001b[1;32m    335\u001b[0m             \u001b[0;34m\"dimension that could be color.  At least one dimension must be \"\u001b[0m\u001b[0;34m\u001b[0m\u001b[0;34m\u001b[0m\u001b[0m\n\u001b[1;32m    336\u001b[0m             \u001b[0;34m\"of size 3 (RGB) or 4 (RGBA), and not given as x or y.\"\u001b[0m\u001b[0;34m\u001b[0m\u001b[0;34m\u001b[0m\u001b[0m\n",
      "\u001b[0;31mValueError\u001b[0m: A 3-dimensional array was passed to imshow(), but there is no dimension that could be color.  At least one dimension must be of size 3 (RGB) or 4 (RGBA), and not given as x or y."
     ]
    },
    {
     "data": {
      "image/png": "[encoded data removed]",
      "text/plain": [
       "<Figure size 432x288 with 1 Axes>"
      ]
     },
     "metadata": {
      "needs_background": "light"
     },
     "output_type": "display_data"
    },
    {
     "data": {
      "image/png": "[encoded data removed]",
      "text/plain": [
       "<Figure size 792x144 with 2 Axes>"
      ]
     },
     "metadata": {
      "needs_background": "light"
     },
     "output_type": "display_data"
    }
   ],
   "source": [
    "from IPython import display\n",
    "from PIL import Image\n",
    "import time\n",
    "import seaborn\n",
    "import matplotlib.pyplot as plt\n",
    "import xarray\n",
    "import pandas as pd\n",
    "import numpy as np\n",
    "\n",
    "from neural_structural_optimization import pipeline_utils\n",
    "from neural_structural_optimization import problems\n",
    "from neural_structural_optimization import models\n",
    "from neural_structural_optimization import topo_api\n",
    "from neural_structural_optimization import train\n",
    "\n",
    "def train_all(problem, max_iterations, cnn_kwargs=None):\n",
    "    args = topo_api.specified_task(problem)\n",
    "    if cnn_kwargs is None:\n",
    "        cnn_kwargs = {}\n",
    "\n",
    "    model = models.CNNModel(args=args, **cnn_kwargs)\n",
    "    print(\"CNN Modeling is Done.\")\n",
    "    ds_cnn = train.train_lbfgs(model, max_iterations)\n",
    "    print(\"Training Done.\")\n",
    "    dims = pd.Index(['cnn-lbfgs'], name='model')\n",
    "    return xarray.concat([ds_cnn], dim=dims)\n",
    "\n",
    "\"\"\"MBB beam with a larger grid\"\"\"\n",
    "problem = problems.PROBLEMS_BY_NAME['mbb_beam_8x8x8_0.5']\n",
    "max_iterations = 100\n",
    "\n",
    "#%time ds = train_all(problem, max_iterations) #%timeが機能しないため,以下の処理に変更\n",
    "start = time.time()\n",
    "ds = train_all(problem, max_iterations)\n",
    "e_time = time.time() - start\n",
    "print (\"e_time:{0}\".format(e_time) + \"[s]\")\n",
    "\n",
    "#Analysis Information\n",
    "max_step = max(ds.design['step'])\n",
    "print(max_step)\n",
    "\n",
    "#Steps - Compliance\n",
    "ds.loss.transpose().to_pandas().cummin().loc[:200].plot(linewidth=2)\n",
    "plt.ylim(0, 330)\n",
    "plt.ylabel('Compliance (loss)')\n",
    "plt.xlabel('Optimization step')\n",
    "seaborn.despine()\n",
    "\n",
    "#Three-sided view\n",
    "design_xy0 = ds.design.sel(z=ds.design.z[0])\n",
    "design_xy1 = ds.design.sel(z=ds.design.z[1])\n",
    "design_xy2 = ds.design.sel(z=ds.design.z[2])\n",
    "design_xy3 = ds.design.sel(z=ds.design.z[3])\n",
    "design_xy4 = ds.design.sel(z=ds.design.z[4])\n",
    "design_xy5 = ds.design.sel(z=ds.design.z[5])\n",
    "design_xy6 = ds.design.sel(z=ds.design.z[6])\n",
    "design_xy7 = ds.design.sel(z=ds.design.z[7])\n",
    "#design_xy8 = ds.design.sel(z=ds.design.z[8])\n",
    "design_yz = ds.design.sel(x=ds.design.x[0])\n",
    "design_zx = ds.design.sel(y=ds.design.y[-1])\n",
    "\n",
    "design_xy0.ffill('step').sel(step=max(ds.design.step)).plot.imshow(\n",
    "    col='model', x='x', y='y', size=2, aspect=2.5, col_wrap=2,\n",
    "    yincrease=False, add_colorbar=False, cmap='Greys')\n",
    "plt.suptitle(problem.name, y=1.02)\n",
    "\n",
    "design_xy1.ffill('step').sel(step=max(ds.design.step)).plot.imshow(\n",
    "    col='model', x='x', y='y', size=2, aspect=2.5, col_wrap=2,\n",
    "    yincrease=False, add_colorbar=False, cmap='Greys')\n",
    "plt.suptitle(problem.name, y=1.02)\n",
    "\n",
    "design_xy2.ffill('step').sel(step=max(ds.design.step)).plot.imshow(\n",
    "    col='model', x='x', y='y', size=2, aspect=2.5, col_wrap=2,\n",
    "    yincrease=False, add_colorbar=False, cmap='Greys')\n",
    "plt.suptitle(problem.name, y=1.02)\n",
    "\n",
    "design_xy3.ffill('step').sel(step=max(ds.design.step)).plot.imshow(\n",
    "    col='model', x='x', y='y', size=2, aspect=2.5, col_wrap=2,\n",
    "    yincrease=False, add_colorbar=False, cmap='Greys')\n",
    "plt.suptitle(problem.name, y=1.02)\n",
    "\n",
    "design_xy4.ffill('step').sel(step=max(ds.design.step)).plot.imshow(\n",
    "    col='model', x='x', y='y', size=2, aspect=2.5, col_wrap=2,\n",
    "    yincrease=False, add_colorbar=False, cmap='Greys')\n",
    "plt.suptitle(problem.name, y=1.02)\n",
    "\n",
    "design_xy5.ffill('step').sel(step=max(ds.design.step)).plot.imshow(\n",
    "    col='model', x='x', y='y', size=2, aspect=2.5, col_wrap=2,\n",
    "    yincrease=False, add_colorbar=False, cmap='Greys')\n",
    "plt.suptitle(problem.name, y=1.02)\n",
    "\n",
    "design_xy6.ffill('step').sel(step=max(ds.design.step)).plot.imshow(\n",
    "    col='model', x='x', y='y', size=2, aspect=2.5, col_wrap=2,\n",
    "    yincrease=False, add_colorbar=False, cmap='Greys')\n",
    "plt.suptitle(problem.name, y=1.02)\n",
    "\n",
    "design_xy7.ffill('step').sel(step=max(ds.design.step)).plot.imshow(\n",
    "    col='model', x='x', y='y', size=2, aspect=2.5, col_wrap=2,\n",
    "    yincrease=False, add_colorbar=False, cmap='Greys')\n",
    "plt.suptitle(problem.name, y=1.02)\n",
    "\"\"\"\n",
    "design_xy8.ffill('step').sel(step=max(ds.design.step)).plot.imshow(\n",
    "    col='model', x='x', y='y', size=2, aspect=2.5, col_wrap=2,\n",
    "    yincrease=False, add_colorbar=False, cmap='Greys')\n",
    "plt.suptitle(problem.name, y=1.02)\n",
    "\"\"\"\n",
    "design_yz.ffill('step').sel(step=max(ds.design.step)).plot.imshow(\n",
    "    col='model', x='y', y='z', size=2, aspect=1, col_wrap=2,\n",
    "    yincrease=False, add_colorbar=False, cmap='Greys')\n",
    "plt.suptitle(problem.name, y=1.02)\n",
    "\n",
    "design_zx.ffill('step').sel(step=max(ds.design.step)).plot.imshow(\n",
    "    col='model', x='x', y='z', size=2, aspect=1, col_wrap=2,\n",
    "    yincrease=False, add_colorbar=False, cmap='Greys')\n",
    "plt.suptitle(problem.name, y=1.02)\n",
    "\n",
    "#Steps - Models\n",
    "design_xy.sel(step=[0, 1, 2, 5, 10, 20, 27]).plot.imshow(\n",
    "    row='model', col='step', x='x', y='y', size=2, aspect=0.5,\n",
    "    yincrease=False, add_colorbar=False, cmap='Greys')\n",
    "design_yz.sel(step=[0, 1, 2, 5, 10, 20, 27]).plot.imshow(\n",
    "    row='model', col='step', x='y', y='z', size=2, aspect=0.5,\n",
    "    yincrease=False, add_colorbar=False, cmap='Greys')\n",
    "design_zx.sel(step=[0, 1, 2, 5, 10, 20, 27]).plot.imshow(\n",
    "    row='model', col='step', x='x', y='z', size=2, aspect=0.5,\n",
    "    yincrease=False, add_colorbar=False, cmap='Greys')\n",
    "plt.subplots_adjust(wspace=0.1, hspace=0.05)\n",
    "plt.suptitle(problem.name, y=1.02)\n",
    "\n",
    "print(\"All Processes are Over\")"
   ]
  },
  {
   "cell_type": "code",
   "execution_count": null,
   "metadata": {
    "lines_to_next_cell": 2
   },
   "outputs": [],
   "source": []
  }
 ],
 "metadata": {
  "jupytext": {
   "encoding": "# -*- coding: utf-8 -*-",
   "text_representation": {
    "extension": ".py",
    "format_name": "light",
    "format_version": "1.5",
    "jupytext_version": "1.7.1"
   }
  },
  "kernelspec": {
   "display_name": "Python 3",
   "language": "python",
   "name": "python3"
  },
  "language_info": {
   "codemirror_mode": {
    "name": "ipython",
    "version": 3
   },
   "file_extension": ".py",
   "mimetype": "text/x-python",
   "name": "python",
   "nbconvert_exporter": "python",
   "pygments_lexer": "ipython3",
   "version": "3.6.9"
  }
 },
 "nbformat": 4,
 "nbformat_minor": 4
}
