{
 "cells": [
  {
   "cell_type": "code",
   "execution_count": 13,
   "metadata": {},
   "outputs": [
    {
     "ename": "NameError",
     "evalue": "name 'problems' is not defined",
     "output_type": "error",
     "traceback": [
      "\u001b[0;31m---------------------------------------------------------------------------\u001b[0m",
      "\u001b[0;31mNameError\u001b[0m                                 Traceback (most recent call last)",
      "\u001b[0;32m<ipython-input-13-e9a68c373b58>\u001b[0m in \u001b[0;36m<module>\u001b[0;34m\u001b[0m\n\u001b[1;32m     24\u001b[0m   \u001b[0;32mreturn\u001b[0m \u001b[0mnet\u001b[0m\u001b[0;34m\u001b[0m\u001b[0;34m\u001b[0m\u001b[0m\n\u001b[1;32m     25\u001b[0m \u001b[0;34m\u001b[0m\u001b[0m\n\u001b[0;32m---> 26\u001b[0;31m \u001b[0mproblem\u001b[0m \u001b[0;34m=\u001b[0m \u001b[0mproblems\u001b[0m\u001b[0;34m.\u001b[0m\u001b[0mPROBLEMS_BY_NAME\u001b[0m\u001b[0;34m[\u001b[0m\u001b[0;34m'mbb_beam_192x64x2_0.4'\u001b[0m\u001b[0;34m]\u001b[0m\u001b[0;34m\u001b[0m\u001b[0;34m\u001b[0m\u001b[0m\n\u001b[0m\u001b[1;32m     27\u001b[0m \u001b[0;34m\u001b[0m\u001b[0m\n\u001b[1;32m     28\u001b[0m \u001b[0mresizes\u001b[0m\u001b[0;34m=\u001b[0m\u001b[0;34m(\u001b[0m\u001b[0;36m1\u001b[0m\u001b[0;34m,\u001b[0m \u001b[0;36m2\u001b[0m\u001b[0;34m,\u001b[0m \u001b[0;36m2\u001b[0m\u001b[0;34m,\u001b[0m \u001b[0;36m2\u001b[0m\u001b[0;34m,\u001b[0m \u001b[0;36m1\u001b[0m\u001b[0;34m)\u001b[0m\u001b[0;34m\u001b[0m\u001b[0;34m\u001b[0m\u001b[0m\n",
      "\u001b[0;31mNameError\u001b[0m: name 'problems' is not defined"
     ]
    }
   ],
   "source": [
    "from IPython import display\n",
    "from PIL import Image\n",
    "import time\n",
    "import seaborn\n",
    "import matplotlib.pyplot as plt\n",
    "import xarray\n",
    "import pandas as pd\n",
    "import tensorflow as tf\n",
    "import autograd.numpy as np\n",
    "\n",
    "from neural_structural_optimization import topo_api\n",
    "\n",
    "def UpSampling3D(factor):\n",
    "  return layers.UpSampling3D((factor, factor, factor),data_format='channels_last')\n",
    "\n",
    "def Conv3D(filters, kernel_size, **kwargs):\n",
    "  return layers.Conv3D(filters, kernel_size, padding='same', **kwargs)\n",
    "\n",
    "def global_normalization(inputs, epsilon=1e-6):\n",
    "  mean, variance = tf.nn.moments(inputs, axes=list(range(len(inputs.shape))))\n",
    "  net = inputs\n",
    "  net -= mean\n",
    "  net *= tf.math.rsqrt(variance + epsilon)\n",
    "  return net\n",
    "\n",
    "problem = problems.PROBLEMS_BY_NAME['mbb_beam_192x64x2_0.4']\n",
    "\n",
    "resizes=(1, 2, 2, 2, 1)\n",
    "conv_filters=(128, 64, 32, 16, 1)\n",
    "latent_size=128\n",
    "dense_channels=32\n",
    "layers = tf.keras.layers\n",
    "activation=tf.nn.tanh\n",
    "args=topo_api.specified_task(problem)\n",
    "\n",
    "activation = layers.Activation(activation)\n",
    "normalization=global_normalization\n",
    "\n",
    "total_resize = int(np.prod(resizes))\n",
    "d = args['nelz'] // total_resize\n",
    "h = args['nely'] // total_resize\n",
    "w = args['nelx'] // total_resize\n",
    "\n",
    "net = inputs = layers.Input((latent_size,), batch_size=1)\n",
    "filters = d * h * w * dense_channels\n",
    "dense_initializer = tf.initializers.orthogonal(dense_init_scale * np.sqrt(max(filters / latent_size, 1)))\n",
    "net = layers.Dense(filters, kernel_initializer=dense_initializer)(net)\n",
    "net = layers.Reshape([d, h, w, dense_channels])(net)\n",
    "\n",
    "for resize, filters in zip(resizes, conv_filters):\n",
    "    net = activation(net)\n",
    "    #print(net)\n",
    "    net = UpSampling3D(resize)(net)\n",
    "    #print(net)\n",
    "    net = normalization(net)\n",
    "    #print(net)\n",
    "    net = Conv3D(filters, kernel_size, kernel_initializer=conv_initializer)(net)\n",
    "    #print(net)\n",
    "    \n",
    "    if offset_scale != 0:\n",
    "        net = AddOffset(offset_scale)(net)"
   ]
  },
  {
   "cell_type": "code",
   "execution_count": null,
   "metadata": {},
   "outputs": [],
   "source": []
  }
 ],
 "metadata": {
  "jupytext": {
   "text_representation": {
    "extension": ".py",
    "format_name": "light",
    "format_version": "1.5",
    "jupytext_version": "1.7.1"
   }
  },
  "kernelspec": {
   "display_name": "Python 3",
   "language": "python",
   "name": "python3"
  },
  "language_info": {
   "codemirror_mode": {
    "name": "ipython",
    "version": 3
   },
   "file_extension": ".py",
   "mimetype": "text/x-python",
   "name": "python",
   "nbconvert_exporter": "python",
   "pygments_lexer": "ipython3",
   "version": "3.6.9"
  }
 },
 "nbformat": 4,
 "nbformat_minor": 4
}
