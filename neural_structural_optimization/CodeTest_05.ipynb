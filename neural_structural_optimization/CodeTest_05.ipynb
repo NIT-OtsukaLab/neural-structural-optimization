{
 "cells": [
  {
   "cell_type": "code",
   "execution_count": 40,
   "metadata": {
    "lines_to_next_cell": 0
   },
   "outputs": [
    {
     "name": "stdout",
     "output_type": "stream",
     "text": [
      "filters= 6144\n",
      "dense_init= <tensorflow.python.keras.initializers.initializers_v2.Orthogonal object at 0x7fce4c4a1128>\n",
      "net(Dense)= Tensor(\"dense_17/BiasAdd:0\", shape=(1, 6144), dtype=float32)\n",
      "net(Reshape)= Tensor(\"reshape_16/Reshape:0\", shape=(1, 8, 24, 32), dtype=float32)\n",
      "resize= 1  filters= 128\n",
      "net(activation)= Tensor(\"activation_30/Tanh:0\", shape=(1, 8, 24, 32), dtype=float32)\n",
      "net(UpSamp2D)= Tensor(\"up_sampling2d_45/resize/ResizeNearestNeighbor:0\", shape=(1, 8, 24, 32), dtype=float32)\n",
      "resize= 2  filters= 64\n",
      "net(activation)= Tensor(\"activation_30/Tanh_1:0\", shape=(1, 8, 24, 32), dtype=float32)\n",
      "net(UpSamp2D)= Tensor(\"up_sampling2d_46/resize/ResizeNearestNeighbor:0\", shape=(1, 16, 48, 32), dtype=float32)\n",
      "resize= 2  filters= 32\n",
      "net(activation)= Tensor(\"activation_30/Tanh_2:0\", shape=(1, 16, 48, 32), dtype=float32)\n",
      "net(UpSamp2D)= Tensor(\"up_sampling2d_47/resize/ResizeNearestNeighbor:0\", shape=(1, 32, 96, 32), dtype=float32)\n",
      "resize= 2  filters= 16\n",
      "net(activation)= Tensor(\"activation_30/Tanh_3:0\", shape=(1, 32, 96, 32), dtype=float32)\n",
      "net(UpSamp2D)= Tensor(\"up_sampling2d_48/resize/ResizeNearestNeighbor:0\", shape=(1, 64, 192, 32), dtype=float32)\n",
      "resize= 1  filters= 1\n",
      "net(activation)= Tensor(\"activation_30/Tanh_4:0\", shape=(1, 64, 192, 32), dtype=float32)\n",
      "net(UpSamp2D)= Tensor(\"up_sampling2d_49/resize/ResizeNearestNeighbor:0\", shape=(1, 64, 192, 32), dtype=float32)\n"
     ]
    }
   ],
   "source": [
    "'''UpSampling2D抜き出し'''\n",
    "\n",
    "import tensorflow as tf\n",
    "import autograd.numpy as np\n",
    "\n",
    "def UpSampling3D(factor):\n",
    "  return layers.UpSampling3D((factor, factor, factor),data_format='channels_last')\n",
    "\n",
    "def UpSampling2D(factor):\n",
    "  return layers.UpSampling2D((factor, factor),data_format='channels_last')\n",
    "\n",
    "resizes=(1, 2, 2, 2, 1)\n",
    "conv_filters=(128, 64, 32, 16, 1)\n",
    "nelx=192\n",
    "nely=64\n",
    "nelz=2\n",
    "latent_size=128\n",
    "dense_channels=32\n",
    "dense_init_scale=1.0\n",
    "layers = tf.keras.layers\n",
    "activation = layers.Activation(tf.nn.tanh)\n",
    "\n",
    "total_resize = int(np.prod(resizes))\n",
    "#d = nelz // total_resize\n",
    "h = nely // total_resize\n",
    "w = nelx // total_resize\n",
    "\n",
    "net = inputs = layers.Input((latent_size,), batch_size=1)\n",
    "#filters = d * h * w * dense_channels\n",
    "filters = h * w * dense_channels\n",
    "print(\"filters=\",filters)\n",
    "\n",
    "dense_initializer = tf.initializers.orthogonal(dense_init_scale * np.sqrt(max(filters / latent_size, 1)))\n",
    "print(\"dense_init=\",dense_initializer)\n",
    "\n",
    "net = layers.Dense(filters, kernel_initializer=dense_initializer)(net)\n",
    "print(\"net(Dense)=\",net)\n",
    "\n",
    "#net = layers.Reshape([d, h, w, dense_channels])(net)\n",
    "net = layers.Reshape([h, w, dense_channels])(net)\n",
    "print(\"net(Reshape)=\",net)\n",
    "\n",
    "for resize, filters in zip(resizes, conv_filters):\n",
    "    print(\"resize=\",resize,\" filters=\",filters)\n",
    "    net = activation(net)\n",
    "    print(\"net(activation)=\",net)\n",
    "    #net = UpSampling3D(resize)(net)\n",
    "    net = UpSampling2D(resize)(net)\n",
    "    print(\"net(UpSamp2D)=\",net)"
   ]
  },
  {
   "cell_type": "code",
   "execution_count": 2,
   "metadata": {
    "lines_to_next_cell": 2
   },
   "outputs": [
    {
     "name": "stdout",
     "output_type": "stream",
     "text": [
      "filters= 6144\n",
      "dense_init= <tensorflow.python.keras.initializers.initializers_v2.Orthogonal object at 0x7fbd886d0da0>\n",
      "net(Dense)= Tensor(\"dense_1/BiasAdd:0\", shape=(1, 6144), dtype=float32)\n",
      "net(Reshape)= Tensor(\"reshape_1/Reshape:0\", shape=(1, 1, 8, 24, 32), dtype=float32)\n",
      "resize= 1  filters= 128\n",
      "net(activation)= Tensor(\"activation_1/Tanh:0\", shape=(1, 1, 8, 24, 32), dtype=float32)\n",
      "net(UpSamp3D)= Tensor(\"up_sampling3d_1/concat_2:0\", shape=(1, 1, 8, 24, 32), dtype=float32)\n",
      "resize= 2  filters= 64\n",
      "net(activation)= Tensor(\"activation_1/Tanh_1:0\", shape=(1, 1, 8, 24, 32), dtype=float32)\n",
      "net(UpSamp3D)= Tensor(\"up_sampling3d_2/concat_2:0\", shape=(1, 2, 16, 48, 32), dtype=float32)\n",
      "resize= 2  filters= 32\n",
      "net(activation)= Tensor(\"activation_1/Tanh_2:0\", shape=(1, 2, 16, 48, 32), dtype=float32)\n",
      "net(UpSamp3D)= Tensor(\"up_sampling3d_3/concat_2:0\", shape=(1, 4, 32, 96, 32), dtype=float32)\n",
      "resize= 2  filters= 16\n",
      "net(activation)= Tensor(\"activation_1/Tanh_3:0\", shape=(1, 4, 32, 96, 32), dtype=float32)\n",
      "net(UpSamp3D)= Tensor(\"up_sampling3d_4/concat_2:0\", shape=(1, 8, 64, 192, 32), dtype=float32)\n",
      "resize= 1  filters= 1\n",
      "net(activation)= Tensor(\"activation_1/Tanh_4:0\", shape=(1, 8, 64, 192, 32), dtype=float32)\n",
      "net(UpSamp3D)= Tensor(\"up_sampling3d_5/concat_2:0\", shape=(1, 8, 64, 192, 32), dtype=float32)\n"
     ]
    }
   ],
   "source": [
    "'''UpSampling3D対応'''\n",
    "\n",
    "import tensorflow as tf\n",
    "import autograd.numpy as np\n",
    "\n",
    "def UpSampling3D(factor):\n",
    "  return layers.UpSampling3D((factor, factor, factor),data_format='channels_last')\n",
    "\n",
    "def UpSampling2D(factor):\n",
    "  return layers.UpSampling2D((factor, factor),data_format='channels_last')\n",
    "\n",
    "resizes=(1, 2, 2, 2, 1)\n",
    "conv_filters=(128, 64, 32, 16, 1)\n",
    "nelx=192\n",
    "nely=64\n",
    "\"\"\"↓↓↓↓↓↓↓↓↓↓↓↓↓\"\"\"\n",
    "nelz=8\n",
    "\"\"\"↑↑↑↑↑↑↑↑↑↑↑↑↑\"\"\"\n",
    "latent_size=128\n",
    "dense_channels=32\n",
    "dense_init_scale=1.0\n",
    "layers = tf.keras.layers\n",
    "activation = layers.Activation(tf.nn.tanh)\n",
    "\n",
    "total_resize = int(np.prod(resizes))\n",
    "d = nelz // total_resize\n",
    "h = nely // total_resize\n",
    "w = nelx // total_resize\n",
    "\n",
    "net = inputs = layers.Input((latent_size,), batch_size=1)\n",
    "filters = d * h * w * dense_channels\n",
    "#filters = h * w * dense_channels\n",
    "print(\"filters=\",filters)\n",
    "\n",
    "dense_initializer = tf.initializers.orthogonal(dense_init_scale * np.sqrt(max(filters / latent_size, 1)))\n",
    "print(\"dense_init=\",dense_initializer)\n",
    "\n",
    "net = layers.Dense(filters, kernel_initializer=dense_initializer)(net)\n",
    "print(\"net(Dense)=\",net)\n",
    "\n",
    "#net = layers.Reshape([d, h, w, dense_channels])(net)\n",
    "net = layers.Reshape([d, h, w, dense_channels])(net)\n",
    "print(\"net(Reshape)=\",net)\n",
    "\n",
    "for resize, filters in zip(resizes, conv_filters):\n",
    "    print(\"resize=\",resize,\" filters=\",filters)\n",
    "    net = activation(net)\n",
    "    print(\"net(activation)=\",net)\n",
    "    #net = UpSampling3D(resize)(net)\n",
    "    net = UpSampling3D(resize)(net)\n",
    "    print(\"net(UpSamp3D)=\",net)"
   ]
  },
  {
   "cell_type": "code",
   "execution_count": null,
   "metadata": {},
   "outputs": [],
   "source": []
  },
  {
   "cell_type": "code",
   "execution_count": null,
   "metadata": {},
   "outputs": [],
   "source": []
  }
 ],
 "metadata": {
  "jupytext": {
   "encoding": "# -*- coding: utf-8 -*-",
   "text_representation": {
    "extension": ".py",
    "format_name": "light",
    "format_version": "1.5",
    "jupytext_version": "1.7.1"
   }
  },
  "kernelspec": {
   "display_name": "Python 3",
   "language": "python",
   "name": "python3"
  },
  "language_info": {
   "codemirror_mode": {
    "name": "ipython",
    "version": 3
   },
   "file_extension": ".py",
   "mimetype": "text/x-python",
   "name": "python",
   "nbconvert_exporter": "python",
   "pygments_lexer": "ipython3",
   "version": "3.6.9"
  }
 },
 "nbformat": 4,
 "nbformat_minor": 4
}
