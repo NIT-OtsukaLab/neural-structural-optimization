{
 "cells": [
  {
   "cell_type": "code",
   "execution_count": null,
   "metadata": {
    "lines_to_next_cell": 0
   },
   "outputs": [
    {
     "name": "stdout",
     "output_type": "stream",
     "text": [
      "...get_stiffness_matrix\n",
      "CNN Modeling is Done.\n",
      "..._set_variables\n",
      "...objective\n",
      "...physical_density\n",
      "...displace\n",
      "...young_modulus\n",
      "...get_k\n",
      "..._get_dof_indices\n"
     ]
    }
   ],
   "source": [
    "from IPython import display\n",
    "from PIL import Image\n",
    "import time\n",
    "import seaborn\n",
    "import matplotlib.pyplot as plt\n",
    "from mpl_toolkits.mplot3d import Axes3D\n",
    "import xarray\n",
    "import pandas as pd\n",
    "\n",
    "from neural_structural_optimization import pipeline_utils\n",
    "from neural_structural_optimization import problems\n",
    "from neural_structural_optimization import models\n",
    "from neural_structural_optimization import topo_api\n",
    "from neural_structural_optimization import train\n",
    "\n",
    "def train_all(problem, max_iterations, cnn_kwargs=None):\n",
    "    args = topo_api.specified_task(problem)\n",
    "    if cnn_kwargs is None:\n",
    "        cnn_kwargs = {}\n",
    "\n",
    "    model = models.CNNModel(args=args, **cnn_kwargs)\n",
    "    print(\"CNN Modeling is Done.\")\n",
    "    ds_cnn = train.train_lbfgs(model, max_iterations)\n",
    "    print(\"Training Done.\")\n",
    "    dims = pd.Index(['cnn-lbfgs'], name='model')\n",
    "    return xarray.concat([ds_cnn], dim=dims)\n",
    "\n",
    "\"\"\"MBB beam with a larger grid\"\"\"\n",
    "problem = problems.PROBLEMS_BY_NAME['mbb_beam_192x64x64_0.4']\n",
    "max_iterations = 100\n",
    "\n",
    "# #%time ds = train_all(problem, max_iterations) %timeが機能しないため,以下の処理に変更\n",
    "start = time.time()\n",
    "ds = train_all(problem, max_iterations)\n",
    "e_time = time.time() - start\n",
    "print (\"e_time:{0}\".format(e_time) + \"[s]\")\n",
    "\n",
    "ds.loss.transpose().to_pandas().cummin().loc[:200].plot(linewidth=2)\n",
    "plt.ylim(230, 330)\n",
    "plt.ylabel('Compliance (loss)')\n",
    "plt.xlabel('Optimization step')\n",
    "seaborn.despine()\n",
    "\n",
    "# the pixel-lbfgs does not run for the full 100 steps (it terminates\n",
    "# early due to reaching a local minima), so use fill() to forward fill\n",
    "# to the last valid design.\n",
    "ds.design.ffill('step').sel(step=100).plot.imshow(\n",
    "    col='model', x='x', y='y', size=2, aspect=2.5, col_wrap=2,\n",
    "    yincrease=False, add_colorbar=False, cmap='Greys')\n",
    "plt.suptitle(problem.name, y=1.02)\n",
    "\n",
    "ds.design.sel(step=[0, 1, 2, 5, 10, 20, 50, 100]).plot.imshow(\n",
    "    row='model', col='step', x='x', y='y', size=2, aspect=0.5,\n",
    "    yincrease=False, add_colorbar=False, cmap='Greys')\n",
    "plt.subplots_adjust(wspace=0.1, hspace=0.05)\n",
    "plt.suptitle(problem.name, y=1.02)"
   ]
  },
  {
   "cell_type": "code",
   "execution_count": null,
   "metadata": {},
   "outputs": [],
   "source": []
  }
 ],
 "metadata": {
  "jupytext": {
   "encoding": "# -*- coding: utf-8 -*-",
   "text_representation": {
    "extension": ".py",
    "format_name": "light",
    "format_version": "1.5",
    "jupytext_version": "1.7.1"
   }
  },
  "kernelspec": {
   "display_name": "Python 3",
   "language": "python",
   "name": "python3"
  },
  "language_info": {
   "codemirror_mode": {
    "name": "ipython",
    "version": 3
   },
   "file_extension": ".py",
   "mimetype": "text/x-python",
   "name": "python",
   "nbconvert_exporter": "python",
   "pygments_lexer": "ipython3",
   "version": "3.6.9"
  }
 },
 "nbformat": 4,
 "nbformat_minor": 4
}
